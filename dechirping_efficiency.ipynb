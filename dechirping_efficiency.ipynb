{
 "cells": [
  {
   "cell_type": "markdown",
   "metadata": {},
   "source": [
    "# UCLA SETI group<br>Paul Pinchuk<br>Dechirping Efficiency"
   ]
  },
  {
   "cell_type": "markdown",
   "metadata": {},
   "source": [
    "## Calculating *turbo*SETI Dechirping Efficiency"
   ]
  },
  {
   "cell_type": "markdown",
   "metadata": {},
   "source": [
    "In the first part of this notebook, we provide the code to reproduce the analysis from Section 6.1 of [Margot et al. (2020)](https://arxiv.org/abs/2011.05265). Specifically, we will calculate the *dechirping efficiency* of the *turbo*SETI code. For a complete discussion, please refer to the cited work.\n",
    "\n",
    "We will make use of several standard libraries for this task, namely\n",
    " - [os](https://docs.python.org/3/library/os.html)\n",
    " - [numpy](https://numpy.org/)\n",
    " - [pandas](https://pandas.pydata.org/)\n",
    " - [astropy](https://www.astropy.org/)\n",
    " - [logging](https://docs.python.org/3/library/logging.html) (required for compatibility with blimpy)\n",
    " - [matplotlib](https://matplotlib.org/) (only if you wish to visualize parts of the procedure)\n",
    " \n",
    "We import these libraries below (with the exception of *astropy*, since we only need the `Angle` class). We will import `matplotlib` as needed."
   ]
  },
  {
   "cell_type": "code",
   "execution_count": 2,
   "metadata": {},
   "outputs": [],
   "source": [
    "import os\n",
    "import numpy as np\n",
    "import pandas as pd\n",
    "from astropy.coordinates.angles import Angle\n",
    "import logging"
   ]
  },
  {
   "cell_type": "markdown",
   "metadata": {},
   "source": [
    "We will also need to import some relevant modules from the *blimpy* and *turbo*SETI packages. For more information on how to install these, please see the following GitHub repositories:\n",
    " - *blimpy* - https://github.com/UCBerkeleySETI/blimpy\n",
    " - *turbo*SETI ($\\leq$ v1.3.0) - https://github.com/UCBerkeleySETI/turbo_seti/releases/tag/1.3.0\n",
    "\n",
    "Version 1.3.0 of *turbo*SETI is likely the version used by [Price et al. (2020)](https://doi.org/10.3847/1538-3881/ab65f1) because it was released before any subsequent publication by the Breakthrough Listen (BL) team and it includes `DASK` parallelization, which is explicitly referred to in the cited work. In any case, it is the most up-to-date version of *turbo*SETI at the time of writing (September 7, 2020). \n",
    "\n",
    "We will use the `Waterfall` class as well as the `write_to_hdf5` and `hdf_reader` functions to write our data array in the correct format. We will then use the utilities from the `find_doppler` module of *turbo*SETI to recover the injected signals. Finally, we will use the `make_table` function to display the candidates found in the previous step."
   ]
  },
  {
   "cell_type": "code",
   "execution_count": 2,
   "metadata": {},
   "outputs": [],
   "source": [
    "from blimpy.io import write_to_hdf5, hdf_reader\n",
    "from blimpy.waterfall import Waterfall\n",
    "import turbo_seti.find_doppler.find_doppler as fd\n",
    "from turbo_seti.find_event.find_event import make_table"
   ]
  },
  {
   "cell_type": "markdown",
   "metadata": {},
   "source": [
    "The first thing we need to do is *monkey-patch* a function of the `find_doppler` module used to calculate the mean and standard deviation of the input spectra. Since we will be using noise-free data, we replace the relevant function (`comp_stats`) with one that always returns 0 for the mean and 1 for the standard deviation."
   ]
  },
  {
   "cell_type": "code",
   "execution_count": 3,
   "metadata": {},
   "outputs": [],
   "source": [
    "def always_return_zero_mean_unit_std(__):\n",
    "    return 0, 1"
   ]
  },
  {
   "cell_type": "code",
   "execution_count": 4,
   "metadata": {},
   "outputs": [],
   "source": [
    "fd.comp_stats = always_return_zero_mean_unit_std"
   ]
  },
  {
   "cell_type": "markdown",
   "metadata": {},
   "source": [
    "Now we define some relevant parameters to the efficiency analysis."
   ]
  },
  {
   "cell_type": "code",
   "execution_count": 5,
   "metadata": {},
   "outputs": [],
   "source": [
    "n_rows_high_t_resolution = 816  # 16*51 - There are 51 time integrations, and the tree algorithm requires a power of 2 rows (16)\n",
    "n_dfdts_injected = 420  # This is the number of unique drift rates (df/dt) that we will inject. We can calculate this using 4 Hz/s / 0.0096 Hz/s = 417, but we round up to 420\n",
    "f_bins_between_signals = 1000  # This is the number of frequency bins between each injected signal. Must be large enough so that signals with large dfdts do not overlap\n",
    "snr_injected = 1000  # The SNR of the injected signals. Must be large enough to capture any losses in sensitivity due to dechirping\n",
    "fft_len = 2**20  # Length of the fft"
   ]
  },
  {
   "cell_type": "markdown",
   "metadata": {},
   "source": [
    "The next cell defines a function to downsample high-time resolution data into low-time resolution data."
   ]
  },
  {
   "cell_type": "code",
   "execution_count": 6,
   "metadata": {},
   "outputs": [],
   "source": [
    "def integrate_in_time(data, t_int=51):\n",
    "    n_rows, n_cols = data.shape\n",
    "    n_new_rows = int(np.ceil(n_rows / t_int))\n",
    "    new_data = np.zeros((n_new_rows, n_cols), dtype=np.float32)\n",
    "\n",
    "    for start_ind in range(n_new_rows):\n",
    "        data_to_average = data[start_ind*t_int:(start_ind+1)*t_int, :].copy()\n",
    "        new_data[start_ind] = data_to_average.sum(axis=0)\n",
    "    return new_data"
   ]
  },
  {
   "cell_type": "markdown",
   "metadata": {},
   "source": [
    "The next cell creates a high-time resolution array of zeros (noise-free) and injects signals at all possible drift rates, spacing them apart by `f_bins_between_signals` frequency bins."
   ]
  },
  {
   "cell_type": "code",
   "execution_count": 7,
   "metadata": {},
   "outputs": [],
   "source": [
    "bl_data_with_sigs = np.zeros((n_rows_high_t_resolution, fft_len), dtype=np.float32)\n",
    "n_rows = bl_data_with_sigs.shape[0]\n",
    "\n",
    "for final_ind in range(n_dfdts_injected):\n",
    "    split_inds = np.ceil(np.arange(final_ind + 2) / (final_ind + 1) * n_rows).astype(int)\n",
    "    for roll_ind, (l_ind, r_ind) in enumerate(zip(split_inds[:-1], split_inds[1:])):\n",
    "        bl_data_with_sigs[l_ind:r_ind, (final_ind+1)*f_bins_between_signals+roll_ind] = snr_injected / n_rows_high_t_resolution\n",
    "\n",
    "# Downsample high-time resolution data containing signals\n",
    "bl_data_with_sigs_int = integrate_in_time(bl_data_with_sigs)"
   ]
  },
  {
   "cell_type": "markdown",
   "metadata": {},
   "source": [
    "Now we can take a look at some of these signals! Feel free to change `ind` to be any value in the range `[0, n_dfdts_injected)`. You may need to increase the `r_window` parameter for some of the larger drift rates."
   ]
  },
  {
   "cell_type": "code",
   "execution_count": 8,
   "metadata": {},
   "outputs": [
    {
     "data": {
      "image/png": "[encoded data removed]",
      "text/plain": [
       "<Figure size 864x432 with 2 Axes>"
      ]
     },
     "metadata": {
      "needs_background": "light"
     },
     "output_type": "display_data"
    }
   ],
   "source": [
    "%matplotlib inline\n",
    "import matplotlib.pyplot as plt\n",
    "\n",
    "ind = 150\n",
    "r_window = 200\n",
    "\n",
    "_, axes = plt.subplots(1, 2, figsize=(12, 6))\n",
    "axes[0].imshow(bl_data_with_sigs[:, (ind+1)*f_bins_between_signals-100:(ind+1)*f_bins_between_signals + r_window], aspect='auto', interpolation=\"None\")\n",
    "axes[1].imshow(bl_data_with_sigs_int[:, (ind+1)*f_bins_between_signals-100:(ind+1)*f_bins_between_signals + r_window], aspect='auto', interpolation=\"None\")\n",
    "for ax in axes:\n",
    "    ax.set_xlabel('Frequency Bins')\n",
    "axes[0].set_ylabel('Time Bins')\n",
    "axes[0].set_title('High time resolution')\n",
    "axes[1].set_title('Integrated time')\n",
    "plt.show()"
   ]
  },
  {
   "cell_type": "markdown",
   "metadata": {},
   "source": [
    "Once we are satisfied with our injected signals, we can write them to a file for processing. The next cell defines a `header` dictionary with some dummy info about the observation."
   ]
  },
  {
   "cell_type": "code",
   "execution_count": 9,
   "metadata": {},
   "outputs": [],
   "source": [
    "header = {\n",
    "    'DIMENSION_LABELS': np.array([b'frequency', b'feed_id', b'time']),\n",
    "    'az_start': 0.0,\n",
    "    'data_type': 1,\n",
    "    'fch1': 0,\n",
    "    'foff': 2.7939677238464355e-06,\n",
    "    'machine_id': 0,\n",
    "    'nbits': 32,\n",
    "    'nchans': 1048576,\n",
    "    'nifs': 1,\n",
    "    'source_name': 'N/A',\n",
    "    'src_dej': Angle('0d'),\n",
    "    'src_raj': Angle('0h'),\n",
    "    'telescope_id': 0,\n",
    "    'tsamp': 18.253611008,\n",
    "    'tstart': 0,\n",
    "    'za_start': 0.0\n",
    "}"
   ]
  },
  {
   "cell_type": "markdown",
   "metadata": {},
   "source": [
    "Now we are ready to save the data! First, we create a `Waterfall` instance using the downsampled data. Then, we set some important class attributes, *monkey-patching* as needed. None of these attributes are important for the analysis we are performing, but they must be set in order for the code to function."
   ]
  },
  {
   "cell_type": "code",
   "execution_count": 10,
   "metadata": {},
   "outputs": [],
   "source": [
    "class container:\n",
    "    def isheavy(self):\n",
    "        return False\n",
    "    \n",
    "    \n",
    "wf = Waterfall(data_array=bl_data_with_sigs_int.reshape(-1, 1, 2**20))\n",
    "wf._update_header = lambda: None\n",
    "wf.data = bl_data_with_sigs_int.reshape(-1, 1, 2**20)\n",
    "wf.header = header\n",
    "wf.logger = logging.getLogger()\n",
    "wf.container = container()\n",
    "wf.n_ints_in_file = 16"
   ]
  },
  {
   "cell_type": "markdown",
   "metadata": {},
   "source": [
    "The next line writes the data to a file!"
   ]
  },
  {
   "cell_type": "code",
   "execution_count": 11,
   "metadata": {},
   "outputs": [],
   "source": [
    "write_to_hdf5(wf, 'injected_dfdts.h5')"
   ]
  },
  {
   "cell_type": "markdown",
   "metadata": {},
   "source": [
    "Now we are ready for the second step: Running *turbo*SETI. To do so, we first create a `FindDoppler` instance using the data we just saved. We set `min_drift` to be -0.0001 so that *turbo*SETI looks for the 0 Hz/s signal but doesn't bother with any other negative drift rates (since we only injected positive ones). We set `max_drift` to be 4 Hz/s and the `snr` threshold to 10 to emulate the parameters of [Price et al. (2020)](https://doi.org/10.3847/1538-3881/ab65f1)."
   ]
  },
  {
   "cell_type": "code",
   "execution_count": 20,
   "metadata": {},
   "outputs": [],
   "source": [
    "doppler = fd.FindDoppler('injected_dfdts.h5',\n",
    "                      min_drift = -0.0001,\n",
    "                      max_drift = 4,\n",
    "                      snr = 10,       \n",
    "                      out_dir = './' # This is where the turboSETI output files will be stored. \"./\" is the current directory\n",
    "                     )"
   ]
  },
  {
   "cell_type": "markdown",
   "metadata": {},
   "source": [
    "We want the algorithm to write the candidate signals to a brand new file, so before we run it, we look for the file `injected_dfdts.dat` and remove it if it exists."
   ]
  },
  {
   "cell_type": "code",
   "execution_count": 31,
   "metadata": {},
   "outputs": [],
   "source": [
    "if os.path.exists('injected_dfdts.dat'):\n",
    "    os.remove('injected_dfdts.dat')\n",
    "assert(not os.path.exists('injected_dfdts.dat'))"
   ]
  },
  {
   "cell_type": "markdown",
   "metadata": {},
   "source": [
    "And now we let *turbo*SETI run! Be patient - this may take 5-10 minutes."
   ]
  },
  {
   "cell_type": "code",
   "execution_count": 32,
   "metadata": {},
   "outputs": [],
   "source": [
    "doppler.search()"
   ]
  },
  {
   "cell_type": "markdown",
   "metadata": {},
   "source": [
    "Now we are ready to take a look at the results. First, we will read in the file created by *turbo*SETI (`injected_dfdts.dat`), and we will add the injected drift rate values by observing the `ChanIndx` value (i.e. 0 Hz/s was injected at 1000, 0.009566 Hz/s at 2000, and so on)."
   ]
  },
  {
   "cell_type": "code",
   "execution_count": 33,
   "metadata": {},
   "outputs": [
    {
     "data": {
      "text/html": [
       "<div>\n",
       "<style scoped>\n",
       "    .dataframe tbody tr th:only-of-type {\n",
       "        vertical-align: middle;\n",
       "    }\n",
       "\n",
       "    .dataframe tbody tr th {\n",
       "        vertical-align: top;\n",
       "    }\n",
       "\n",
       "    .dataframe thead th {\n",
       "        text-align: right;\n",
       "    }\n",
       "</style>\n",
       "<table border=\"1\" class=\"dataframe\">\n",
       "  <thead>\n",
       "    <tr style=\"text-align: right;\">\n",
       "      <th></th>\n",
       "      <th>InjectedDFDT</th>\n",
       "      <th>DriftRate</th>\n",
       "      <th>SNR</th>\n",
       "      <th>ChanIndx</th>\n",
       "    </tr>\n",
       "  </thead>\n",
       "  <tbody>\n",
       "    <tr>\n",
       "      <th>0</th>\n",
       "      <td>0.000000</td>\n",
       "      <td>0.000000</td>\n",
       "      <td>1000.000244</td>\n",
       "      <td>1000</td>\n",
       "    </tr>\n",
       "    <tr>\n",
       "      <th>1</th>\n",
       "      <td>0.009566</td>\n",
       "      <td>0.009566</td>\n",
       "      <td>1000.000244</td>\n",
       "      <td>2000</td>\n",
       "    </tr>\n",
       "    <tr>\n",
       "      <th>2</th>\n",
       "      <td>0.019133</td>\n",
       "      <td>0.019133</td>\n",
       "      <td>833.333534</td>\n",
       "      <td>3000</td>\n",
       "    </tr>\n",
       "    <tr>\n",
       "      <th>3</th>\n",
       "      <td>0.028699</td>\n",
       "      <td>0.028699</td>\n",
       "      <td>1000.000244</td>\n",
       "      <td>4000</td>\n",
       "    </tr>\n",
       "    <tr>\n",
       "      <th>4</th>\n",
       "      <td>0.038266</td>\n",
       "      <td>0.038266</td>\n",
       "      <td>799.019798</td>\n",
       "      <td>5000</td>\n",
       "    </tr>\n",
       "    <tr>\n",
       "      <th>...</th>\n",
       "      <td>...</td>\n",
       "      <td>...</td>\n",
       "      <td>...</td>\n",
       "      <td>...</td>\n",
       "    </tr>\n",
       "    <tr>\n",
       "      <th>1709</th>\n",
       "      <td>4.008359</td>\n",
       "      <td>3.817029</td>\n",
       "      <td>39.215687</td>\n",
       "      <td>420021</td>\n",
       "    </tr>\n",
       "    <tr>\n",
       "      <th>1710</th>\n",
       "      <td>4.008359</td>\n",
       "      <td>3.797896</td>\n",
       "      <td>39.215687</td>\n",
       "      <td>420022</td>\n",
       "    </tr>\n",
       "    <tr>\n",
       "      <th>1711</th>\n",
       "      <td>4.008359</td>\n",
       "      <td>3.817029</td>\n",
       "      <td>39.215687</td>\n",
       "      <td>420023</td>\n",
       "    </tr>\n",
       "    <tr>\n",
       "      <th>1712</th>\n",
       "      <td>4.008359</td>\n",
       "      <td>3.769197</td>\n",
       "      <td>39.215687</td>\n",
       "      <td>420024</td>\n",
       "    </tr>\n",
       "    <tr>\n",
       "      <th>1713</th>\n",
       "      <td>4.008359</td>\n",
       "      <td>3.759630</td>\n",
       "      <td>39.215687</td>\n",
       "      <td>420025</td>\n",
       "    </tr>\n",
       "  </tbody>\n",
       "</table>\n",
       "<p>1714 rows × 4 columns</p>\n",
       "</div>"
      ],
      "text/plain": [
       "      InjectedDFDT  DriftRate          SNR  ChanIndx\n",
       "0         0.000000   0.000000  1000.000244      1000\n",
       "1         0.009566   0.009566  1000.000244      2000\n",
       "2         0.019133   0.019133   833.333534      3000\n",
       "3         0.028699   0.028699  1000.000244      4000\n",
       "4         0.038266   0.038266   799.019798      5000\n",
       "...            ...        ...          ...       ...\n",
       "1709      4.008359   3.817029    39.215687    420021\n",
       "1710      4.008359   3.797896    39.215687    420022\n",
       "1711      4.008359   3.817029    39.215687    420023\n",
       "1712      4.008359   3.769197    39.215687    420024\n",
       "1713      4.008359   3.759630    39.215687    420025\n",
       "\n",
       "[1714 rows x 4 columns]"
      ]
     },
     "execution_count": 33,
     "metadata": {},
     "output_type": "execute_result"
    }
   ],
   "source": [
    "df = make_table('injected_dfdts.dat')\n",
    "dfdts = np.arange(n_rows_high_t_resolution) * ((header['foff'] * 1e6) ** 2) / n_rows_high_t_resolution\n",
    "indxs = (np.arange(n_rows_high_t_resolution) + 1) * f_bins_between_signals\n",
    "df['InjectedDFDT'] = [dfdts[np.argmin(np.abs(indxs - d))] for d in df.ChanIndx]\n",
    "df[['InjectedDFDT', 'DriftRate', 'SNR', 'ChanIndx']]"
   ]
  },
  {
   "cell_type": "markdown",
   "metadata": {},
   "source": [
    "If you wish, you can save the output to a separate csv file using the cell below."
   ]
  },
  {
   "cell_type": "code",
   "execution_count": 34,
   "metadata": {},
   "outputs": [],
   "source": [
    "df[['InjectedDFDT', 'DriftRate', 'SNR', 'ChanIndx']].to_csv('bl_injected_dfdts_recovered.csv', index=False)"
   ]
  },
  {
   "cell_type": "markdown",
   "metadata": {},
   "source": [
    "Finally, we will reproduce the BL portion of Figure 7 from Margot et al. (2020). "
   ]
  },
  {
   "cell_type": "code",
   "execution_count": 35,
   "metadata": {},
   "outputs": [
    {
     "data": {
      "image/png": "[encoded data removed]",
      "text/plain": [
       "<Figure size 432x288 with 1 Axes>"
      ]
     },
     "metadata": {
      "needs_background": "light"
     },
     "output_type": "display_data"
    }
   ],
   "source": [
    "%matplotlib inline\n",
    "import matplotlib.pyplot as plt\n",
    "\n",
    "fig = plt.figure()\n",
    "ax = fig.add_subplot(1, 1, 1)\n",
    "# some DFDT values may have been detected at multiple other dfdt values. \n",
    "# Importantly, this only happens when the SNR ar multiple dfdt values is identical.\n",
    "# To ensure that only one SNR value is recovered per injected DFDT, we use the '.SNR.unique()' function. \n",
    "# If multiple SNRs were detected for a given injected frequency, the code will fail later down the line.\n",
    "pairs = list(df.groupby('InjectedDFDT').SNR.unique().items())\n",
    "\n",
    "dfdts, snrs = list(zip(*pairs))\n",
    "dfdts = np.array(dfdts)\n",
    "snrs = np.array(snrs).flatten() / 10 \n",
    "\n",
    "_ = plt.scatter(dfdts, snrs, marker='o', s=5, color='#bf3d42')\n",
    "_ = plt.vlines(0.153, -100, 200, linestyle='--', color='gray', linewidth=1)  # Vertical line at 0.153 Hz/s (i.e. max drift rate without smearing)\n",
    "_ = plt.xlabel('Frequency Drift Rate (Hz s$^{-1}$)')\n",
    "_ = plt.ylabel('Fraction of Power Recovered (%)')\n",
    "_ = plt.ylim(0, 103)\n",
    "_ = plt.xlim(0, 4)"
   ]
  },
  {
   "cell_type": "markdown",
   "metadata": {},
   "source": [
    "And that's it!"
   ]
  },
  {
   "cell_type": "markdown",
   "metadata": {},
   "source": [
    "## Tree algorithm dechirping efficiency"
   ]
  },
  {
   "cell_type": "markdown",
   "metadata": {},
   "source": [
    "[Margot et al. (2020)](https://arxiv.org/abs/2011.05265) explain that the tree algorithm is not perfect in that it reuses pre-computed sums to achieve `N log(N)` computational cost. As a result, the tree algorithm shifts every spectrum by an amount that is not always optimal. In other words, it is unable to perfectly dechirp most linear chirp waveforms. We can quantify the level of error associated with the use of the tree algorithm for a variety of array dimensions and reproduce Table 4 of [Margot et al. (2020)](https://arxiv.org/abs/2011.05265) as follows:"
   ]
  },
  {
   "cell_type": "code",
   "execution_count": 41,
   "metadata": {},
   "outputs": [
    {
     "name": "stdout",
     "output_type": "stream",
     "text": [
      "Working on shape (2, 50000)\n",
      "Working on shape (4, 50000)\n",
      "Working on shape (8, 50000)\n",
      "Working on shape (16, 50000)\n",
      "Working on shape (32, 50000)\n",
      "Working on shape (64, 50000)\n",
      "Working on shape (128, 50000)\n",
      "Working on shape (256, 50000)\n",
      "Working on shape (512, 50000)\n",
      "Working on shape (1024, 50000)\n",
      "Working on shape (2048, 50000)\n",
      "Working on shape (4096, 50000)\n"
     ]
    }
   ],
   "source": [
    "n_rows = [2**i for i in range(1, 13)]\n",
    "n_cols = [50000 for r in n_rows]\n",
    "shapes = list(zip(n_rows, n_cols))\n",
    "\n",
    "results = {}\n",
    "for s in shapes:\n",
    "    print(f\"Working on shape {s}\")\n",
    "    data_with_sigs = np.zeros(s, dtype=np.float32)\n",
    "    n_rows = data_with_sigs.shape[0]\n",
    "    for final_ind in range(n_rows): \n",
    "        split_inds = np.rint(np.arange(final_ind + 2) / (final_ind + 1) * n_rows).astype(int)\n",
    "        for roll_ind, (l_ind, r_ind) in enumerate(zip(split_inds[:-1], split_inds[1:])):\n",
    "            data_with_sigs[l_ind:r_ind, (final_ind+1)*10+roll_ind] = 1000 / n_rows\n",
    "    \n",
    "    # BL Tree Algorithm\n",
    "    tree_findoppler = np.zeros(np.multiply(*data_with_sigs.shape), dtype=np.float64)\n",
    "    nframes = tsteps = s[0]\n",
    "    tdwidth = fftlen = s[1]\n",
    "    _ = fd.populate_tree(data_with_sigs, tree_findoppler, nframes, tdwidth, tsteps, fftlen, shoulder_size=0, roll=0, reverse=0)\n",
    "    fd.tt.taylor_flt(tree_findoppler, tsteps * tdwidth, tsteps)\n",
    "    ibrev = np.array([fd.bitrev(i, int(np.log2(tsteps))) for i in range(tsteps)])\n",
    "    f_by_fdot = tree_findoppler.reshape(s)[ibrev[np.arange(s[0])]]\n",
    "    \n",
    "    results[s[0]] = pd.DataFrame(\n",
    "        [(dfdt_ind, f_by_fdot[dfdt_ind, (dfdt_ind+1)*10] / 10) for dfdt_ind in range(n_rows)],\n",
    "        columns=['DFDT_bin', 'Percent']\n",
    "    )"
   ]
  },
  {
   "cell_type": "markdown",
   "metadata": {},
   "source": [
    "We can print the output in Jupyter Markdown format:"
   ]
  },
  {
   "cell_type": "code",
   "execution_count": 62,
   "metadata": {},
   "outputs": [
    {
     "name": "stdout",
     "output_type": "stream",
     "text": [
      "|  Rows |  Min (%) |  Max (%) | Mean (%) |Median (%)|  STD (%) |\n",
      "|-------|----------|----------|----------|----------|----------|\n",
      "|     2 |   100.00 |   100.00 |   100.00 |   100.00 |     0.00 |\n",
      "|     4 |   100.00 |   100.00 |   100.00 |   100.00 |     0.00 |\n",
      "|     8 |    75.00 |   100.00 |    93.75 |   100.00 |    11.57 |\n",
      "|    16 |    75.00 |   100.00 |    90.62 |    93.75 |    10.70 |\n",
      "|    32 |    68.75 |   100.00 |    85.16 |    81.25 |    11.20 |\n",
      "|    64 |    68.75 |   100.00 |    81.64 |    78.12 |     9.83 |\n",
      "|   128 |    64.06 |   100.00 |    77.93 |    75.00 |     8.88 |\n",
      "|   256 |    64.06 |   100.00 |    75.17 |    73.44 |     7.68 |\n",
      "|   512 |    60.16 |   100.00 |    72.42 |    71.09 |     6.84 |\n",
      "|  1024 |    60.16 |   100.00 |    70.08 |    69.14 |     6.10 |\n",
      "|  2048 |    56.84 |   100.00 |    67.92 |    66.60 |     5.53 |\n",
      "|  4096 |    56.84 |   100.00 |    66.01 |    64.94 |     5.06 |\n"
     ]
    }
   ],
   "source": [
    "print(f\"|  Rows |  Min (%) |  Max (%) | Mean (%) |Median (%)|  STD (%) |\")\n",
    "print(f\"|-------|----------|----------|----------|----------|----------|\")\n",
    "for pow2, res in results.items():\n",
    "    stats = res.describe()['Percent']\n",
    "    values = \" | \".join([f'{pow2:6d}'] + list(map(lambda x: f'{x:8.2f}', stats.loc[['min', 'max', 'mean', '50%', 'std']].values)))\n",
    "    print('|' + values + ' |')"
   ]
  },
  {
   "cell_type": "markdown",
   "metadata": {},
   "source": [
    "If we copy the above output into a markdown cell, we can replicate Table 4 from [Margot et al. (2020)](https://arxiv.org/abs/2011.05265) in this notebook!"
   ]
  },
  {
   "cell_type": "markdown",
   "metadata": {},
   "source": [
    "|  Rows |  Min (%) |  Max (%) | Mean (%) |Median (%)|  STD (%) |\n",
    "|-------|----------|----------|----------|----------|----------|\n",
    "|     2 |   100.00 |   100.00 |   100.00 |   100.00 |     0.00 |\n",
    "|     4 |   100.00 |   100.00 |   100.00 |   100.00 |     0.00 |\n",
    "|     8 |    75.00 |   100.00 |    93.75 |   100.00 |    11.57 |\n",
    "|    16 |    75.00 |   100.00 |    90.62 |    93.75 |    10.70 |\n",
    "|    32 |    68.75 |   100.00 |    85.16 |    81.25 |    11.20 |\n",
    "|    64 |    68.75 |   100.00 |    81.64 |    78.12 |     9.83 |\n",
    "|   128 |    64.06 |   100.00 |    77.93 |    75.00 |     8.88 |\n",
    "|   256 |    64.06 |   100.00 |    75.17 |    73.44 |     7.68 |\n",
    "|   512 |    60.16 |   100.00 |    72.42 |    71.09 |     6.84 |\n",
    "|  1024 |    60.16 |   100.00 |    70.08 |    69.14 |     6.10 |\n",
    "|  2048 |    56.84 |   100.00 |    67.92 |    66.60 |     5.53 |\n",
    "|  4096 |    56.84 |   100.00 |    66.01 |    64.94 |     5.06 |"
   ]
  }
 ],
 "metadata": {
  "kernelspec": {
   "display_name": "Python 3",
   "language": "python",
   "name": "python3"
  },
  "language_info": {
   "codemirror_mode": {
    "name": "ipython",
    "version": 3
   },
   "file_extension": ".py",
   "mimetype": "text/x-python",
   "name": "python",
   "nbconvert_exporter": "python",
   "pygments_lexer": "ipython3",
   "version": "3.8.3"
  }
 },
 "nbformat": 4,
 "nbformat_minor": 4
}
